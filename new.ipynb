{
 "cells": [
  {
   "cell_type": "code",
   "execution_count": 1,
   "metadata": {},
   "outputs": [],
   "source": [
    "# Online Advertising Performance Analysis\n",
    "\n",
    "import pandas as pd\n",
    "import numpy as np\n",
    "import matplotlib.pyplot as plt\n",
    "import seaborn as sns"
   ]
  },
  {
   "cell_type": "code",
   "execution_count": 4,
   "metadata": {},
   "outputs": [],
   "source": [
    "# Load the dataset\n",
    "df = pd.read_csv('online_ad_performance_data.csv')"
   ]
  },
  {
   "cell_type": "code",
   "execution_count": 6,
   "metadata": {},
   "outputs": [],
   "source": [
    "# Convert 'Day' column to datetime\n",
    "df['day'] = pd.to_datetime(df['day'])"
   ]
  },
  {
   "cell_type": "code",
   "execution_count": 7,
   "metadata": {},
   "outputs": [
    {
     "name": "stdout",
     "output_type": "stream",
     "text": [
      "<class 'pandas.core.frame.DataFrame'>\n",
      "RangeIndex: 15408 entries, 0 to 15407\n",
      "Data columns (total 14 columns):\n",
      " #   Column                   Non-Null Count  Dtype         \n",
      "---  ------                   --------------  -----         \n",
      " 0   month                    15408 non-null  object        \n",
      " 1   day                      15408 non-null  datetime64[ns]\n",
      " 2   campaign_number          15408 non-null  object        \n",
      " 3   user_engagement          15408 non-null  object        \n",
      " 4   banner                   15408 non-null  object        \n",
      " 5   placement                14995 non-null  object        \n",
      " 6   displays                 15408 non-null  int64         \n",
      " 7   cost                     15408 non-null  float64       \n",
      " 8   clicks                   15408 non-null  int64         \n",
      " 9   revenue                  15408 non-null  float64       \n",
      " 10  post_click_conversions   15408 non-null  int64         \n",
      " 11  post_click_sales_amount  15408 non-null  float64       \n",
      " 12  Unnamed: 12              0 non-null      float64       \n",
      " 13  Unnamed: 13              0 non-null      float64       \n",
      "dtypes: datetime64[ns](1), float64(5), int64(3), object(5)\n",
      "memory usage: 1.6+ MB\n",
      "None\n",
      "            displays          cost        clicks       revenue  \\\n",
      "count   15408.000000  15408.000000  15408.000000  15408.000000   \n",
      "mean    15512.573014     11.370262    161.788487     17.929943   \n",
      "std     44392.392890     45.369499    728.276911     96.781834   \n",
      "min         0.000000      0.000000      0.000000      0.000000   \n",
      "25%        78.000000      0.024000      0.000000      0.000000   \n",
      "50%      1182.000000      0.339850      6.000000      0.483950   \n",
      "75%      8960.250000      2.536225     53.000000      3.839800   \n",
      "max    455986.000000    556.704800  14566.000000   2096.211600   \n",
      "\n",
      "       post_click_conversions  post_click_sales_amount  Unnamed: 12  \\\n",
      "count            15408.000000             15408.000000          0.0   \n",
      "mean                42.300623              2123.288058          NaN   \n",
      "std                213.685660             10523.029607          NaN   \n",
      "min                  0.000000                 0.000000          NaN   \n",
      "25%                  0.000000                 0.000000          NaN   \n",
      "50%                  0.000000                 0.000000          NaN   \n",
      "75%                  3.000000               163.351200          NaN   \n",
      "max               3369.000000            199930.318000          NaN   \n",
      "\n",
      "       Unnamed: 13  \n",
      "count          0.0  \n",
      "mean           NaN  \n",
      "std            NaN  \n",
      "min            NaN  \n",
      "25%            NaN  \n",
      "50%            NaN  \n",
      "75%            NaN  \n",
      "max            NaN  \n"
     ]
    }
   ],
   "source": [
    "# Inspect the data\n",
    "print(df.info())\n",
    "print(df.describe())"
   ]
  },
  {
   "cell_type": "code",
   "execution_count": 8,
   "metadata": {},
   "outputs": [
    {
     "name": "stdout",
     "output_type": "stream",
     "text": [
      "month                          0\n",
      "day                            0\n",
      "campaign_number                0\n",
      "user_engagement                0\n",
      "banner                         0\n",
      "placement                    413\n",
      "displays                       0\n",
      "cost                           0\n",
      "clicks                         0\n",
      "revenue                        0\n",
      "post_click_conversions         0\n",
      "post_click_sales_amount        0\n",
      "Unnamed: 12                15408\n",
      "Unnamed: 13                15408\n",
      "dtype: int64\n"
     ]
    }
   ],
   "source": [
    "# Check for missing values\n",
    "print(df.isnull().sum())"
   ]
  },
  {
   "cell_type": "code",
   "execution_count": 9,
   "metadata": {},
   "outputs": [],
   "source": [
    "# Drop rows with missing values\n",
    "df = df.dropna()"
   ]
  },
  {
   "cell_type": "code",
   "execution_count": 12,
   "metadata": {},
   "outputs": [],
   "source": [
    "df['user_engagement'] = pd.to_numeric(df['user_engagement'], errors='coerce')\n",
    "df['displays'] = pd.to_numeric(df['displays'], errors='coerce')\n",
    "df['cost'] = pd.to_numeric(df['cost'], errors='coerce')\n",
    "df['clicks'] = pd.to_numeric(df['clicks'], errors='coerce')\n",
    "df['revenue'] = pd.to_numeric(df['revenue'], errors='coerce')\n",
    "df['post_click_conversions'] = pd.to_numeric(\n",
    "    df['post_click_conversions'], errors='coerce')\n",
    "df['post_click_sales_amount'] = pd.to_numeric(\n",
    "    df['post_click_sales_amount'], errors='coerce')"
   ]
  },
  {
   "cell_type": "code",
   "execution_count": 13,
   "metadata": {},
   "outputs": [],
   "source": [
    "# Drop any remaining rows with NaN values after conversion\n",
    "df = df.dropna()"
   ]
  },
  {
   "cell_type": "code",
   "execution_count": 14,
   "metadata": {},
   "outputs": [],
   "source": [
    "# Check for duplicates and remove them\n",
    "df = df.drop_duplicates()"
   ]
  },
  {
   "cell_type": "code",
   "execution_count": 15,
   "metadata": {},
   "outputs": [
    {
     "name": "stdout",
     "output_type": "stream",
     "text": [
      "<class 'pandas.core.frame.DataFrame'>\n",
      "Int64Index: 0 entries\n",
      "Data columns (total 14 columns):\n",
      " #   Column                   Non-Null Count  Dtype         \n",
      "---  ------                   --------------  -----         \n",
      " 0   month                    0 non-null      object        \n",
      " 1   day                      0 non-null      datetime64[ns]\n",
      " 2   campaign_number          0 non-null      object        \n",
      " 3   user_engagement          0 non-null      int64         \n",
      " 4   banner                   0 non-null      object        \n",
      " 5   placement                0 non-null      object        \n",
      " 6   displays                 0 non-null      int64         \n",
      " 7   cost                     0 non-null      float64       \n",
      " 8   clicks                   0 non-null      int64         \n",
      " 9   revenue                  0 non-null      float64       \n",
      " 10  post_click_conversions   0 non-null      int64         \n",
      " 11  post_click_sales_amount  0 non-null      float64       \n",
      " 12  Unnamed: 12              0 non-null      float64       \n",
      " 13  Unnamed: 13              0 non-null      float64       \n",
      "dtypes: datetime64[ns](1), float64(5), int64(4), object(4)\n",
      "memory usage: 0.0+ bytes\n",
      "None\n",
      "       user_engagement  displays  cost  clicks  revenue  \\\n",
      "count              0.0       0.0   0.0     0.0      0.0   \n",
      "mean               NaN       NaN   NaN     NaN      NaN   \n",
      "std                NaN       NaN   NaN     NaN      NaN   \n",
      "min                NaN       NaN   NaN     NaN      NaN   \n",
      "25%                NaN       NaN   NaN     NaN      NaN   \n",
      "50%                NaN       NaN   NaN     NaN      NaN   \n",
      "75%                NaN       NaN   NaN     NaN      NaN   \n",
      "max                NaN       NaN   NaN     NaN      NaN   \n",
      "\n",
      "       post_click_conversions  post_click_sales_amount  Unnamed: 12  \\\n",
      "count                     0.0                      0.0          0.0   \n",
      "mean                      NaN                      NaN          NaN   \n",
      "std                       NaN                      NaN          NaN   \n",
      "min                       NaN                      NaN          NaN   \n",
      "25%                       NaN                      NaN          NaN   \n",
      "50%                       NaN                      NaN          NaN   \n",
      "75%                       NaN                      NaN          NaN   \n",
      "max                       NaN                      NaN          NaN   \n",
      "\n",
      "       Unnamed: 13  \n",
      "count          0.0  \n",
      "mean           NaN  \n",
      "std            NaN  \n",
      "min            NaN  \n",
      "25%            NaN  \n",
      "50%            NaN  \n",
      "75%            NaN  \n",
      "max            NaN  \n"
     ]
    }
   ],
   "source": [
    "# Recheck the data after cleaning\n",
    "print(df.info())\n",
    "print(df.describe())"
   ]
  },
  {
   "cell_type": "code",
   "execution_count": 17,
   "metadata": {},
   "outputs": [
    {
     "data": {
      "image/png": "[encoded data removed]",
      "text/plain": [
       "<Figure size 1200x600 with 1 Axes>"
      ]
     },
     "metadata": {},
     "output_type": "display_data"
    }
   ],
   "source": [
    "# Question 1: Overall trend in user engagement throughout the campaign period\n",
    "plt.figure(figsize=(12, 6))\n",
    "sns.lineplot(x='day', y='user_engagement', data=df)\n",
    "plt.title('Overall Trend in User Engagement')\n",
    "plt.xlabel('Date')\n",
    "plt.ylabel('User Engagement')\n",
    "plt.show()"
   ]
  },
  {
   "cell_type": "code",
   "execution_count": null,
   "metadata": {},
   "outputs": [],
   "source": []
  }
 ],
 "metadata": {
  "kernelspec": {
   "display_name": "Python 3",
   "language": "python",
   "name": "python3"
  },
  "language_info": {
   "codemirror_mode": {
    "name": "ipython",
    "version": 3
   },
   "file_extension": ".py",
   "mimetype": "text/x-python",
   "name": "python",
   "nbconvert_exporter": "python",
   "pygments_lexer": "ipython3",
   "version": "3.9.7"
  }
 },
 "nbformat": 4,
 "nbformat_minor": 2
}
